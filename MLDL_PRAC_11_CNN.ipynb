{
  "nbformat": 4,
  "nbformat_minor": 0,
  "metadata": {
    "colab": {
      "provenance": [],
      "mount_file_id": "1cZBGUHWizRg-qGbY9nGJTKC-2lUR0urE",
      "authorship_tag": "ABX9TyNbKszmsCH6Z1poen3mpQXd",
      "include_colab_link": true
    },
    "kernelspec": {
      "name": "python3",
      "display_name": "Python 3"
    },
    "language_info": {
      "name": "python"
    }
  },
  "cells": [
    {
      "cell_type": "markdown",
      "metadata": {
        "id": "view-in-github",
        "colab_type": "text"
      },
      "source": [
        "<a href=\"https://colab.research.google.com/github/vishsach10/MSC_MLDL_545/blob/main/MLDL_PRAC_11_CNN.ipynb\" target=\"_parent\"><img src=\"https://colab.research.google.com/assets/colab-badge.svg\" alt=\"Open In Colab\"/></a>"
      ]
    },
    {
      "cell_type": "code",
      "execution_count": 1,
      "metadata": {
        "id": "Uk4xiFqZ9wp-"
      },
      "outputs": [],
      "source": [
        "\n",
        "import tensorflow as tf\n",
        "from keras.preprocessing.image import ImageDataGenerator\n"
      ]
    },
    {
      "cell_type": "code",
      "source": [
        "tf.__version__"
      ],
      "metadata": {
        "colab": {
          "base_uri": "https://localhost:8080/",
          "height": 35
        },
        "id": "6K9_v_yw-IwZ",
        "outputId": "e86c3603-f3d5-4fe3-da1a-eff902a476b1"
      },
      "execution_count": 2,
      "outputs": [
        {
          "output_type": "execute_result",
          "data": {
            "text/plain": [
              "'2.12.0'"
            ],
            "application/vnd.google.colaboratory.intrinsic+json": {
              "type": "string"
            }
          },
          "metadata": {},
          "execution_count": 2
        }
      ]
    },
    {
      "cell_type": "code",
      "source": [
        "from tensorflow.python import training\n",
        "train_datagen = ImageDataGenerator(rescale = 1./255,\n",
        "                                   shear_range=2.0,\n",
        "                                   zoom_range=0.2,\n",
        "                                   horizontal_flip=True)\n",
        "training_set=train_datagen.flow_from_directory('/content/drive/MyDrive/New proc/small_dataset/training_set',\n",
        "                                               target_size=(64, 64),\n",
        "                                               batch_size=32,\n",
        "                                               class_mode='binary')\n"
      ],
      "metadata": {
        "colab": {
          "base_uri": "https://localhost:8080/"
        },
        "id": "PwAXDgnr-NJA",
        "outputId": "cbe9f815-fe43-48bb-bd82-20a4bbc680ca"
      },
      "execution_count": 5,
      "outputs": [
        {
          "output_type": "stream",
          "name": "stdout",
          "text": [
            "Found 10 images belonging to 2 classes.\n"
          ]
        }
      ]
    },
    {
      "cell_type": "code",
      "source": [
        "test_datagen = ImageDataGenerator(rescale = 1./255)\n",
        "test_set = test_datagen.flow_from_directory('/content/drive/MyDrive/New proc/small_dataset/test_set',\n",
        "                                            target_size=(64, 64),\n",
        "                                            batch_size=32,\n",
        "                                            class_mode='binary')"
      ],
      "metadata": {
        "id": "QosJe1jK_m4y",
        "colab": {
          "base_uri": "https://localhost:8080/"
        },
        "outputId": "13ba3119-3b9e-40d8-ebe0-817265a7800d"
      },
      "execution_count": 6,
      "outputs": [
        {
          "output_type": "stream",
          "name": "stdout",
          "text": [
            "Found 10 images belonging to 2 classes.\n"
          ]
        }
      ]
    },
    {
      "cell_type": "code",
      "source": [
        "cnn = tf.keras.models.Sequential()"
      ],
      "metadata": {
        "id": "UjIIzEFEAdrw"
      },
      "execution_count": 7,
      "outputs": []
    },
    {
      "cell_type": "code",
      "source": [
        "cnn.add(tf.keras.layers.Convolution2D(filters=32, kernel_size=3,activation='relu', input_shape=[64, 64,3]))"
      ],
      "metadata": {
        "id": "iZL4Q44gBJKD"
      },
      "execution_count": 8,
      "outputs": []
    },
    {
      "cell_type": "code",
      "source": [
        "cnn.add(tf.keras.layers.MaxPool2D(pool_size=2, strides=2))"
      ],
      "metadata": {
        "id": "EsjgIEWPB8s9"
      },
      "execution_count": 9,
      "outputs": []
    },
    {
      "cell_type": "code",
      "source": [
        "cnn.add(tf.keras.layers.Conv2D(filters=32, kernel_size=3, activation = 'relu'))\n",
        "cnn.add(tf.keras.layers.MaxPool2D(pool_size=2, strides=2))"
      ],
      "metadata": {
        "id": "sC1nzrkNBvfM"
      },
      "execution_count": 10,
      "outputs": []
    },
    {
      "cell_type": "code",
      "source": [
        "cnn.add(tf.keras.layers.Flatten())"
      ],
      "metadata": {
        "id": "UxkPEyAKJreK"
      },
      "execution_count": 11,
      "outputs": []
    },
    {
      "cell_type": "code",
      "source": [
        "cnn.add(tf.keras.layers.Dense(units=120, activation='relu'))"
      ],
      "metadata": {
        "id": "JFuNM0ngJrg4"
      },
      "execution_count": 12,
      "outputs": []
    },
    {
      "cell_type": "code",
      "source": [
        "cnn.add(tf.keras.layers.Dense(units=1, activation='sigmoid'))"
      ],
      "metadata": {
        "id": "2qgft9-4KFoU"
      },
      "execution_count": 13,
      "outputs": []
    },
    {
      "cell_type": "code",
      "source": [
        "cnn.compile(optimizer='adam', loss='binary_crossentropy', metrics=['accuracy'])"
      ],
      "metadata": {
        "id": "3gEtOARFKUHN"
      },
      "execution_count": 14,
      "outputs": []
    },
    {
      "cell_type": "code",
      "source": [
        "cnn.fit(x=training_set,validation_data=test_set, epochs=25)"
      ],
      "metadata": {
        "colab": {
          "base_uri": "https://localhost:8080/"
        },
        "id": "Iqk2ECRFLABE",
        "outputId": "ed69a029-44ba-42a6-d7a4-0dda4a1a1391"
      },
      "execution_count": 15,
      "outputs": [
        {
          "output_type": "stream",
          "name": "stdout",
          "text": [
            "Epoch 1/25\n",
            "1/1 [==============================] - 4s 4s/step - loss: 0.6865 - accuracy: 0.7000 - val_loss: 0.6860 - val_accuracy: 0.5000\n",
            "Epoch 2/25\n",
            "1/1 [==============================] - 0s 150ms/step - loss: 0.6519 - accuracy: 0.7000 - val_loss: 0.7080 - val_accuracy: 0.6000\n",
            "Epoch 3/25\n",
            "1/1 [==============================] - 0s 124ms/step - loss: 0.5899 - accuracy: 0.6000 - val_loss: 0.7499 - val_accuracy: 0.5000\n",
            "Epoch 4/25\n",
            "1/1 [==============================] - 0s 134ms/step - loss: 0.6246 - accuracy: 0.6000 - val_loss: 0.6805 - val_accuracy: 0.5000\n",
            "Epoch 5/25\n",
            "1/1 [==============================] - 0s 140ms/step - loss: 0.4995 - accuracy: 0.9000 - val_loss: 0.7219 - val_accuracy: 0.6000\n",
            "Epoch 6/25\n",
            "1/1 [==============================] - 0s 134ms/step - loss: 0.5938 - accuracy: 0.7000 - val_loss: 0.6961 - val_accuracy: 0.5000\n",
            "Epoch 7/25\n",
            "1/1 [==============================] - 0s 148ms/step - loss: 0.4167 - accuracy: 1.0000 - val_loss: 0.7492 - val_accuracy: 0.4000\n",
            "Epoch 8/25\n",
            "1/1 [==============================] - 0s 145ms/step - loss: 0.4985 - accuracy: 0.8000 - val_loss: 0.7259 - val_accuracy: 0.5000\n",
            "Epoch 9/25\n",
            "1/1 [==============================] - 0s 337ms/step - loss: 0.4159 - accuracy: 0.9000 - val_loss: 0.7596 - val_accuracy: 0.4000\n",
            "Epoch 10/25\n",
            "1/1 [==============================] - 0s 323ms/step - loss: 0.4660 - accuracy: 0.8000 - val_loss: 0.7770 - val_accuracy: 0.4000\n",
            "Epoch 11/25\n",
            "1/1 [==============================] - 0s 268ms/step - loss: 0.3945 - accuracy: 0.9000 - val_loss: 0.8137 - val_accuracy: 0.5000\n",
            "Epoch 12/25\n",
            "1/1 [==============================] - 0s 339ms/step - loss: 0.3701 - accuracy: 0.9000 - val_loss: 0.8588 - val_accuracy: 0.3000\n",
            "Epoch 13/25\n",
            "1/1 [==============================] - 0s 191ms/step - loss: 0.4161 - accuracy: 0.8000 - val_loss: 0.8326 - val_accuracy: 0.4000\n",
            "Epoch 14/25\n",
            "1/1 [==============================] - 0s 322ms/step - loss: 0.2672 - accuracy: 1.0000 - val_loss: 0.9009 - val_accuracy: 0.4000\n",
            "Epoch 15/25\n",
            "1/1 [==============================] - 0s 302ms/step - loss: 0.2665 - accuracy: 1.0000 - val_loss: 0.8732 - val_accuracy: 0.5000\n",
            "Epoch 16/25\n",
            "1/1 [==============================] - 0s 336ms/step - loss: 0.2645 - accuracy: 0.9000 - val_loss: 0.9679 - val_accuracy: 0.3000\n",
            "Epoch 17/25\n",
            "1/1 [==============================] - 0s 337ms/step - loss: 0.2334 - accuracy: 0.9000 - val_loss: 0.9963 - val_accuracy: 0.3000\n",
            "Epoch 18/25\n",
            "1/1 [==============================] - 1s 590ms/step - loss: 0.2095 - accuracy: 0.9000 - val_loss: 0.9705 - val_accuracy: 0.5000\n",
            "Epoch 19/25\n",
            "1/1 [==============================] - 1s 736ms/step - loss: 0.2059 - accuracy: 0.9000 - val_loss: 1.0683 - val_accuracy: 0.3000\n",
            "Epoch 20/25\n",
            "1/1 [==============================] - 0s 461ms/step - loss: 0.2079 - accuracy: 1.0000 - val_loss: 1.0573 - val_accuracy: 0.3000\n",
            "Epoch 21/25\n",
            "1/1 [==============================] - 1s 686ms/step - loss: 0.1633 - accuracy: 1.0000 - val_loss: 1.1563 - val_accuracy: 0.3000\n",
            "Epoch 22/25\n",
            "1/1 [==============================] - 0s 135ms/step - loss: 0.1205 - accuracy: 1.0000 - val_loss: 1.2675 - val_accuracy: 0.3000\n",
            "Epoch 23/25\n",
            "1/1 [==============================] - 0s 143ms/step - loss: 0.0715 - accuracy: 1.0000 - val_loss: 1.3593 - val_accuracy: 0.3000\n",
            "Epoch 24/25\n",
            "1/1 [==============================] - 0s 143ms/step - loss: 0.1512 - accuracy: 0.9000 - val_loss: 1.2578 - val_accuracy: 0.3000\n",
            "Epoch 25/25\n",
            "1/1 [==============================] - 0s 144ms/step - loss: 0.0644 - accuracy: 1.0000 - val_loss: 1.2954 - val_accuracy: 0.3000\n"
          ]
        },
        {
          "output_type": "execute_result",
          "data": {
            "text/plain": [
              "<keras.callbacks.History at 0x7fcc3c6d7df0>"
            ]
          },
          "metadata": {},
          "execution_count": 15
        }
      ]
    },
    {
      "cell_type": "code",
      "source": [
        "import numpy as np\n",
        "from tensorflow.keras.preprocessing import image\n",
        "test_image = image.load_img('/content/drive/MyDrive/New proc/small_dataset/single_prediction/cat_or_dog_1.jpg',target_size=(64,64))\n",
        "test_image =image.img_to_array(test_image)\n",
        "test_image = np.expand_dims(test_image,axis=0)\n",
        "result = cnn.predict(test_image)\n",
        "training_set.class_indices\n",
        "if result[0][0]==1:\n",
        "  prediction ='dog'\n",
        "else:\n",
        "    prediction='cat'"
      ],
      "metadata": {
        "colab": {
          "base_uri": "https://localhost:8080/"
        },
        "id": "OxB-QeOvGhSX",
        "outputId": "01d84a5b-7e6b-4e6a-d55a-c1d91265a7a0"
      },
      "execution_count": 19,
      "outputs": [
        {
          "output_type": "stream",
          "name": "stdout",
          "text": [
            "1/1 [==============================] - 0s 198ms/step\n"
          ]
        }
      ]
    },
    {
      "cell_type": "code",
      "source": [
        "print(prediction)"
      ],
      "metadata": {
        "colab": {
          "base_uri": "https://localhost:8080/"
        },
        "id": "DDZ42G4EGu1l",
        "outputId": "628e8f81-5336-4502-bd6e-81920b583ae1"
      },
      "execution_count": 21,
      "outputs": [
        {
          "output_type": "stream",
          "name": "stdout",
          "text": [
            "cat\n"
          ]
        }
      ]
    }
  ]
}